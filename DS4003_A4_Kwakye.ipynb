{
 "cells": [
  {
   "cell_type": "code",
   "execution_count": 2,
   "metadata": {},
   "outputs": [
    {
     "data": {
      "text/html": [
       "\n",
       "        <iframe\n",
       "            width=\"100%\"\n",
       "            height=\"650\"\n",
       "            src=\"http://127.0.0.1:8050/\"\n",
       "            frameborder=\"0\"\n",
       "            allowfullscreen\n",
       "            \n",
       "        ></iframe>\n",
       "        "
      ],
      "text/plain": [
       "<IPython.lib.display.IFrame at 0x25ac1617fd0>"
      ]
     },
     "metadata": {},
     "output_type": "display_data"
    }
   ],
   "source": [
    "import dash\n",
    "from dash import dcc, html\n",
    "from dash.dependencies import Input, Output\n",
    "import pandas as pd\n",
    "import plotly.express as px\n",
    "\n",
    "\n",
    "df = pd.read_csv(\"gdp_pcap.csv\") # gets data set\n",
    "\n",
    "app = dash.Dash(__name__)  # creates the dash app\n",
    "server = app.server\n",
    "\n",
    "external_stylesheets = ['https://stackpath.bootstrapcdn.com/bootstrap/4.5.2/css/bootstrap.min.css']  # creates stylesheet\n",
    "\n",
    "app = dash.Dash(__name__, external_stylesheets=external_stylesheets)\n",
    "\n",
    "app.layout = html.Div([ # styles the layout \n",
    "\n",
    "    html.H1(\"GDP per Capita vs Time\"),\n",
    "    html.P(\"This graph shows the GDP per Capita over time for the selected countries in the dropdown menu and the selected years on the slider. The y-axis represents the GDP per Capita, and the x-axis represents the years. There is a general positive correlation between year and GDP per Capita for countries.\"),\n",
    "\n",
    "    html.Div([\n",
    "        html.Div([\n",
    "            html.Label('Select Country:'),\n",
    "            dcc.Dropdown( # creates dropdown\n",
    "                id='country-dropdown',\n",
    "                options=[{'label': country, 'value': country} for country in df['country']],\n",
    "                multi=True,\n",
    "                value=['Afghanistan']\n",
    "            ),\n",
    "        ], style={'width': '25%', 'display': 'inline-block'}),\n",
    "        html.Div([\n",
    "            html.Label('Select Year Range:'),\n",
    "            dcc.RangeSlider( # creates slider\n",
    "                id='year-slider',\n",
    "                min=int(df.columns[1]),\n",
    "                max=int(df.columns[-1]),\n",
    "                marks={year: str(year) for year in range(int(df.columns[1]), int(df.columns[-1]) + 1, 10)},\n",
    "                step=1,\n",
    "                value=[int(df.columns[1]), int(df.columns[-1])]\n",
    "            ),\n",
    "        ], style={'width': '75%', 'display': 'inline-block'}),\n",
    "    ], style={'display': 'flex'}),\n",
    "\n",
    "    dcc.Graph(id='gdp-line-chart', style={'width': '100%'}), # creates graph to be displayed\n",
    "\n",
    "])\n",
    "\n",
    "\n",
    "@app.callback( # updates the content of the graph when slider or drop down is interacted with\n",
    "    Output('gdp-line-chart', 'figure'),\n",
    "    [Input('country-dropdown', 'value'),\n",
    "     Input('year-slider', 'value')]\n",
    ")\n",
    "def update_graph(selected_countries, selected_years): # updates data on line chart based off intersction\n",
    "    filtered_df = df[df['country'].isin(selected_countries)] # filters the data by years selected\n",
    "    years = list(range(selected_years[0], selected_years[1] + 1))\n",
    "    selected_columns = [str(year) for year in years]\n",
    "    \n",
    "    reshaped_df = pd.melt(filtered_df, id_vars=['country'], value_vars=selected_columns, # row corresponds with a country, year, and GDP per Capita\n",
    "                        var_name='Year', value_name='GDP per Capita')\n",
    "    \n",
    "    reshaped_df['GDP per Capita'] = pd.to_numeric(reshaped_df['GDP per Capita'], errors='coerce')\n",
    "\n",
    "    reshaped_df.dropna(subset=['GDP per Capita'], inplace=True)\n",
    "\n",
    "    reshaped_df = reshaped_df.sort_values(by='GDP per Capita')\n",
    "    \n",
    "    fig = px.line(  # creates line chart to be displayed\n",
    "        reshaped_df,\n",
    "        x='Year',\n",
    "        y='GDP per Capita',\n",
    "        color='country',\n",
    "        labels={'Year': 'Year', 'GDP per Capita': 'GDP per Capita'}\n",
    "    )\n",
    "\n",
    "    fig.update_layout(   # updates the layout if the line chart\n",
    "        xaxis_title='Year',\n",
    "        yaxis_title='GDP per Capita',\n",
    "    )\n",
    "    return fig\n",
    "\n",
    "if __name__ == \"__main__\":\n",
    "    app.run_server(debug=True)"
   ]
  }
 ],
 "metadata": {
  "kernelspec": {
   "display_name": "ds4003",
   "language": "python",
   "name": "python3"
  },
  "language_info": {
   "codemirror_mode": {
    "name": "ipython",
    "version": 3
   },
   "file_extension": ".py",
   "mimetype": "text/x-python",
   "name": "python",
   "nbconvert_exporter": "python",
   "pygments_lexer": "ipython3",
   "version": "3.8.18"
  }
 },
 "nbformat": 4,
 "nbformat_minor": 2
}
